{
 "cells": [
  {
   "cell_type": "code",
   "execution_count": 8,
   "id": "9976eb2b-352e-47ad-9030-1c2870fdc5f2",
   "metadata": {},
   "outputs": [
    {
     "name": "stdout",
     "output_type": "stream",
     "text": [
      "* Running on local URL:  http://127.0.0.1:7866\n",
      "\n",
      "Could not create share link. Please check your internet connection or our status page: https://status.gradio.app.\n"
     ]
    },
    {
     "data": {
      "text/html": [
       "<div><iframe src=\"http://127.0.0.1:7866/\" width=\"100%\" height=\"500\" allow=\"autoplay; camera; microphone; clipboard-read; clipboard-write;\" frameborder=\"0\" allowfullscreen></iframe></div>"
      ],
      "text/plain": [
       "<IPython.core.display.HTML object>"
      ]
     },
     "metadata": {},
     "output_type": "display_data"
    },
    {
     "data": {
      "text/plain": []
     },
     "execution_count": 8,
     "metadata": {},
     "output_type": "execute_result"
    },
    {
     "name": "stdout",
     "output_type": "stream",
     "text": [
      "Created dataset file at: .gradio\\flagged\\dataset1.csv\n"
     ]
    }
   ],
   "source": [
    "from openai import OpenAI\n",
    "import gradio as gr\n",
    "\n",
    "# Use OpenRouter as API base\n",
    "client = OpenAI(\n",
    "    api_key=\"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\",  # Replace with your actual OpenRouter key\n",
    "    base_url=\"https://openrouter.ai/api/v1\"\n",
    ")\n",
    "\n",
    "# System prompt\n",
    "messages = [\n",
    "    {\"role\": \"system\", \"content\": \"\"\"\n",
    "You are a seafood restaurant expert. \n",
    "You provide detailed information about seafood dishes including their price, preparation time, average customer rating (out of 5), and common customer feedback. \n",
    "Dishes include Lobster Thermidor, Grilled King Prawns, Seafood Paella, Fried Calamari, Garlic Butter Crab, and Grilled Salmon Steak.\n",
    "\"\"\"}\n",
    "]\n",
    "\n",
    "def CustomChatGPT(user_input):\n",
    "    messages.append({\"role\": \"user\", \"content\": user_input})\n",
    "    try:\n",
    "        response = client.chat.completions.create(\n",
    "            model=\"mistralai/mistral-7b-instruct\",  # ✅ valid OpenRouter model\n",
    "            messages=messages\n",
    "        )\n",
    "        reply = response.choices[0].message.content\n",
    "    except Exception as e:\n",
    "        reply = f\"Error: {str(e)}\"\n",
    "    messages.append({\"role\": \"assistant\", \"content\": reply})\n",
    "    return reply\n",
    "\n",
    "# Gradio UI\n",
    "demo = gr.Interface(\n",
    "    fn=CustomChatGPT,\n",
    "    inputs=\"text\",\n",
    "    outputs=\"text\",\n",
    "    title=\"CWC Phuzhal Restaurant Sea Food Hotel\"\n",
    ")\n",
    "\n",
    "demo.launch(share=True)\n"
   ]
  },
  {
   "cell_type": "code",
   "execution_count": null,
   "id": "57049a0c-510b-4397-995f-0f54945dd344",
   "metadata": {},
   "outputs": [],
   "source": [
    "#https://openrouter.ai/settings/keys"
   ]
  }
 ],
 "metadata": {
  "kernelspec": {
   "display_name": "Python 3 (ipykernel)",
   "language": "python",
   "name": "python3"
  },
  "language_info": {
   "codemirror_mode": {
    "name": "ipython",
    "version": 3
   },
   "file_extension": ".py",
   "mimetype": "text/x-python",
   "name": "python",
   "nbconvert_exporter": "python",
   "pygments_lexer": "ipython3",
   "version": "3.12.7"
  }
 },
 "nbformat": 4,
 "nbformat_minor": 5
}
